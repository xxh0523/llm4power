{
 "cells": [
  {
   "cell_type": "code",
   "execution_count": 1,
   "metadata": {},
   "outputs": [],
   "source": [
    "import os\n",
    "os.environ[\"OPENAI_API_TYPE\"] = \"azure\"\n",
    "os.environ[\"OPENAI_API_BASE\"] = \"https://yourterminal.openai.azure.com/\" #!!!!!!!!!!!!!!!!!!!!!!!!!!!!!!!!!!!!!!!!此处设置自己的terminal\n",
    "os.environ[\"OPENAI_API_KEY\"] = \"your api key\" #!!!!!!!!!!!!!!!!!!!!!!!!!!!!!!!!!!!!!!!!!!!!!!!!!!!!!!!!!!!!!!!!!!!此处设置自己的API Key\n",
    "os.environ[\"OPENAI_API_VERSION\"] = \"2023-05-15\""
   ]
  },
  {
   "cell_type": "code",
   "execution_count": 2,
   "metadata": {},
   "outputs": [],
   "source": [
    "from langchain.document_loaders import PyPDFLoader\n",
    "loader = PyPDFLoader(\"./data/CloudPSS SDK.pdf\")\n",
    "docs = loader.load_and_split()"
   ]
  },
  {
   "cell_type": "code",
   "execution_count": 3,
   "metadata": {},
   "outputs": [],
   "source": [
    "from langchain.text_splitter import RecursiveCharacterTextSplitter\n",
    "text_splitter = RecursiveCharacterTextSplitter(\n",
    "    chunk_size=500, chunk_overlap=0, add_start_index=True\n",
    ")\n",
    "all_splits = text_splitter.split_documents(docs)"
   ]
  },
  {
   "cell_type": "code",
   "execution_count": 4,
   "metadata": {},
   "outputs": [
    {
     "data": {
      "text/plain": [
       "[Document(page_content='SDK 简介\\nCloudPSS SDK 是基于 CloudPSS-A PI封装的模型及软件开发套件。用户可通过编写 Python、Matlab 等脚本构建自定义模型，或是\\n调用 CloudPSS 平台中的模型修改、仿真计算功能，实现诸如自动修改模 型、批量仿真计算、自动化生成报告等复杂且繁琐的功能。\\n用户也可在其自己的应用程序中调用 CloudPSS 仿真引擎，实现仿真驱动的高级分析应用。\\nCloudPSS SDK 包含模型层、算法层和应用层三种开发套件，其中：\\n1. 模 型 层 开 发 套 件帮助用户在 CloudPSS SimS tudio 官方潮流计算、电磁暂态仿真、移频电磁暂态仿真、综合能源能量流计算等内\\n核中开发第三方模型或用户自定义模型。目前，模型层 SDK 已开放基于 Matlab 函数的自定义控制元件接入，后续将进一步开放\\nPython、C/C++ 的标准元件开发套件。\\n2. 算 法 层 开 发 套 件帮助用户在 CloudPSS FuncS tudio 中集成自己的算法内核，从而借助 CloudPSS XS tudio 平台快速开发并部署\\n自己的计算应用。\\n3. 应 用 层 开 发 套 件帮助用户在利用脚本的形式快速调用 CloudPSS 官方计算内核和第三方接入的计算内核，从而方便用户开发高级\\n计算分析应用。其中，SimS tudio-SDK 现已支持 SimS tudio 中的模型修改和 潮 流 计 算、 电 磁 暂 态 仿 真、 综 合 能 源 能 量 流 计 算三\\n种计算内核。\\nCloudPSS-SDK\\n模型层 算法层 应用层\\nMatlab 函数 C/C++ Python 函数 FuncStudio-SDK SimStudio-SDK AppStudio-SDK\\n665', metadata={'page': 1, 'source': './data/CloudPSS SDK.pdf'}),\n",
       " Document(page_content='CloudPSS 接口文档\\nToken 申请 与设置\\nModel 类\\nRunner 类\\nFunction 类\\nFunctionJob 类\\nProject 类\\n681', metadata={'page': 17, 'source': './data/CloudPSS SDK.pdf'}),\n",
       " Document(page_content='CloudPSS 框架介绍\\n框架图\\n仿真项目架构\\n667', metadata={'page': 3, 'source': './data/CloudPSS SDK.pdf'}),\n",
       " Document(page_content='Token 申请与设置\\n首先点击 主 页标签页进入 CloudPSS 主页，然后点击左下角的 设 置按钮进入设置页面。\\n设置页面\\n点击 SDK Token 申 请标签进入 Token 申请界面，并选择 时 效。\\n基本设置界面申请t oken\\n682', metadata={'page': 18, 'source': './data/CloudPSS SDK.pdf'})]"
      ]
     },
     "execution_count": 4,
     "metadata": {},
     "output_type": "execute_result"
    }
   ],
   "source": [
    "# load documents\n",
    "# 运行前，请确保已经完成向量数据库生成，./data/chroma_db未被破坏\n",
    "from langchain.vectorstores.chroma import Chroma\n",
    "from langchain.embeddings.openai import OpenAIEmbeddings\n",
    "db3 = Chroma(persist_directory=\"./data/chroma_db/\", embedding_function=OpenAIEmbeddings(deployment=\"your embedding name\", #!!!!!!!!!!!此处设置自己的text embedding name\n",
    "                                                                                        disallowed_special=()))\n",
    "db3.similarity_search(\"CloudPSS SDK的功能\")"
   ]
  },
  {
   "cell_type": "code",
   "execution_count": 5,
   "metadata": {},
   "outputs": [],
   "source": [
    "retriever = db3.as_retriever(\n",
    "    search_type=\"similarity\", \n",
    "    search_kwargs={\"k\": 8},\n",
    ")"
   ]
  },
  {
   "cell_type": "code",
   "execution_count": 6,
   "metadata": {},
   "outputs": [],
   "source": [
    "from langchain.chat_models import AzureChatOpenAI\n",
    "llm = AzureChatOpenAI(deployment_name=\"your deployment name\", #!!!!!!!!!!!此处设置自己的deployment name\n",
    "                      model_name=\"gpt-35-turbo\",\n",
    "                      temperature=0.7)"
   ]
  },
  {
   "cell_type": "code",
   "execution_count": 17,
   "metadata": {},
   "outputs": [
    {
     "name": "stdout",
     "output_type": "stream",
     "text": [
      "当然可以！以下是一个简单的示例代码，展示如何使用CloudPSS SDK实现仿真和绘图：\n",
      "\n",
      "```python\n",
      "import cloudpss_sdk as cpss\n",
      "import matplotlib.pyplot as plt\n",
      "\n",
      "# 创建仿真模型\n",
      "model = cpss.Model()\n",
      "\n",
      "# 添加组件到仿真模型\n",
      "comp1 = model.create_component(\"Comp1\")\n",
      "comp2 = model.create_component(\"Comp2\")\n",
      "\n",
      "# 设置组件之间的连线关系\n",
      "model.connect(comp1, comp2)\n",
      "\n",
      "# 设置仿真参数\n",
      "model.set_parameter(\"time_step\", 0.1)\n",
      "model.set_parameter(\"simulation_time\", 10.0)\n",
      "\n",
      "# 运行仿真\n",
      "model.run_simulation()\n",
      "\n",
      "# 获取仿真结果\n",
      "result = model.get_result()\n",
      "\n",
      "# 绘制仿真结果图表\n",
      "time = result[\"Time\"]\n",
      "output1 = result[\"Comp1.Output\"]\n",
      "output2 = result[\"Comp2.Output\"]\n",
      "\n",
      "plt.plot(time, output1, label=\"Comp1 Output\")\n",
      "plt.plot(time, output2, label=\"Comp2 Output\")\n",
      "plt.xlabel(\"Time\")\n",
      "plt.ylabel(\"Output\")\n",
      "plt.legend()\n",
      "plt.show()\n",
      "```\n",
      "\n",
      "在这个示例中，首先创建了一个`Model`对象，然后使用`create_component`方法创建了两个组件`Comp1`和`Comp2`，然后使用`connect`方法将两个组件连接起来。接下来，使用`set_parameter`方法设置了仿真参数，包括时间步长和仿真时间。然后，调用`run_simulation`方法运行仿真，最后使用`get_result`方法获取仿真结果。最后，使用Matplotlib库绘制了两个组件的输出随时间变化的曲线图。\n",
      "\n",
      "请注意，上述代码仅为示例，具体的仿真模型和参数设置需要根据实际需求进行调整。另外，还需要安装`cloudpss_sdk`和`matplotlib`库才能运行此代码。\n"
     ]
    }
   ],
   "source": [
    "print(llm.invoke(\"请帮我编写一段代码，利用cloudpss sdk完成仿真，读取仿真结果并画图。\").content)"
   ]
  },
  {
   "cell_type": "code",
   "execution_count": 18,
   "metadata": {},
   "outputs": [
    {
     "ename": "ModuleNotFoundError",
     "evalue": "No module named 'cloudpss_sdk'",
     "output_type": "error",
     "traceback": [
      "\u001b[1;31m---------------------------------------------------------------------------\u001b[0m",
      "\u001b[1;31mModuleNotFoundError\u001b[0m                       Traceback (most recent call last)",
      "Cell \u001b[1;32mIn[18], line 1\u001b[0m\n\u001b[1;32m----> 1\u001b[0m \u001b[38;5;28;01mimport\u001b[39;00m \u001b[38;5;21;01mcloudpss_sdk\u001b[39;00m \u001b[38;5;28;01mas\u001b[39;00m \u001b[38;5;21;01mcpss\u001b[39;00m\n\u001b[0;32m      2\u001b[0m \u001b[38;5;28;01mimport\u001b[39;00m \u001b[38;5;21;01mmatplotlib\u001b[39;00m\u001b[38;5;21;01m.\u001b[39;00m\u001b[38;5;21;01mpyplot\u001b[39;00m \u001b[38;5;28;01mas\u001b[39;00m \u001b[38;5;21;01mplt\u001b[39;00m\n\u001b[0;32m      4\u001b[0m \u001b[38;5;66;03m# 创建仿真模型\u001b[39;00m\n",
      "\u001b[1;31mModuleNotFoundError\u001b[0m: No module named 'cloudpss_sdk'"
     ]
    }
   ],
   "source": [
    "import cloudpss_sdk as cpss\n",
    "import matplotlib.pyplot as plt\n",
    "\n",
    "# 创建仿真模型\n",
    "model = cpss.Model()\n",
    "\n",
    "# 添加组件到仿真模型\n",
    "comp1 = model.create_component(\"Comp1\")\n",
    "comp2 = model.create_component(\"Comp2\")\n",
    "\n",
    "# 设置组件之间的连线关系\n",
    "model.connect(comp1, comp2)\n",
    "\n",
    "# 设置仿真参数\n",
    "model.set_parameter(\"time_step\", 0.1)\n",
    "model.set_parameter(\"simulation_time\", 10.0)\n",
    "\n",
    "# 运行仿真\n",
    "model.run_simulation()\n",
    "\n",
    "# 获取仿真结果\n",
    "result = model.get_result()"
   ]
  },
  {
   "cell_type": "code",
   "execution_count": 13,
   "metadata": {},
   "outputs": [],
   "source": [
    "def format_docs(docs):\n",
    "    return \"\\n\\n\".join(doc.page_content for doc in docs)"
   ]
  },
  {
   "cell_type": "code",
   "execution_count": 25,
   "metadata": {},
   "outputs": [],
   "source": [
    "from langchain.prompts import PromptTemplate\n",
    "from langchain.schema.runnable import RunnablePassthrough\n",
    "from langchain.schema import StrOutputParser\n",
    "\n",
    "# Use three sentences maximum and keep the answer as concise as possible. \n",
    "# Always say \"thanks for asking!\" at the end of the answer. \n",
    "\n",
    "template = \"\"\"Use the following pieces of context to answer the question or generate code at the end. \n",
    "When you generate code, do not use \"try\" and \"exception\". Do not use \"try\" and \"except\"\n",
    "If you don't know the answer, just say that you don't know, don't try to make up an answer. \n",
    "{context}\n",
    "Question: {question}\n",
    "Helpful Answer:\"\"\"\n",
    "rag_prompt_custom = PromptTemplate.from_template(template)\n",
    "\n",
    "rag_chain = (\n",
    "    {\"context\": retriever | format_docs, \"question\": RunnablePassthrough()}\n",
    "    | rag_prompt_custom\n",
    "    | llm\n",
    "    | StrOutputParser()\n",
    ")"
   ]
  },
  {
   "cell_type": "code",
   "execution_count": 35,
   "metadata": {},
   "outputs": [
    {
     "name": "stdout",
     "output_type": "stream",
     "text": [
      "import sys\n",
      "import cloudpss\n",
      "import json\n",
      "import matplotlib.pyplot as plt\n",
      "\n",
      "if __name__ == '__main__':\n",
      "    cloudpss.setToken('{token}')\n",
      "    \n",
      "    # 获取指定 rid 的项目\n",
      "    model = cloudpss.Model.fetch('model/Demo/SDK_TEST1')\n",
      "    \n",
      "    # 启动计算任务\n",
      "    config = model.configs[0]  # 若未设置，则默认用 model 的第一个 config （参数方案）\n",
      "    job = model.jobs[0]  # 若未设置，则默认用 model 的第一个 job （计算方案）\n",
      "    runner = model.run(job, config)\n",
      "    \n",
      "    while not runner.status():\n",
      "        print('running')\n",
      "        # 获取通道分组下的曲线名称\n",
      "        plotKeys = runner.result.getPlotChannelNames(1)\n",
      "        if plotKeys is not None:\n",
      "            for val in plotKeys:\n",
      "                # 获取曲线数据\n",
      "                channel = runner.result.getPlotChannelData(1, val)\n",
      "                plt.plot(channel['x'], channel['y'], label=val)\n",
      "        \n",
      "        plt.pause(0.1)\n",
      "    \n",
      "    print('end')\n",
      "    plt.legend()\n",
      "    plt.show()\n"
     ]
    }
   ],
   "source": [
    "print(rag_chain.invoke(\"请帮我编写一段代码，利用cloudpss sdk完成仿真，读取仿真结果并画图。\"))"
   ]
  },
  {
   "cell_type": "code",
   "execution_count": 38,
   "metadata": {},
   "outputs": [
    {
     "name": "stdout",
     "output_type": "stream",
     "text": [
      "running\n",
      "running\n",
      "running\n",
      "running\n",
      "running\n",
      "running\n",
      "end\n"
     ]
    },
    {
     "data": {
      "image/png": "[encoded data removed]",
      "text/plain": [
       "<Figure size 640x480 with 1 Axes>"
      ]
     },
     "metadata": {},
     "output_type": "display_data"
    }
   ],
   "source": [
    "import time #!!!!!!!!!!!!!!用于程序休眠等待\n",
    "import cloudpss\n",
    "import matplotlib.pyplot as plt\n",
    "\n",
    "if __name__ == '__main__':\n",
    "    cloudpss.setToken('{token}') #!!!!!!!!!!!!!!!!!!!!!!!!!!!!!!此处需要注册cloudpss.net，申请sdk token\n",
    "    \n",
    "    # 获取指定 rid 的项目\n",
    "    model = cloudpss.Model.fetch('model/your name/your project') #!!!!!!!!!!!!此处需要根据情况设置项目名称\n",
    "    \n",
    "    # 启动计算任务\n",
    "    config = model.configs[0]  # 若未设置，则默认用 model 的第一个 config （参数方案）\n",
    "    job = model.jobs[1]  # 若未设置，则默认用 model 的第一个 job （计算方案）!!!!!!!!!!!!!!!!!!!! 此处需要按需修改，设置对应仿真任务的job\n",
    "    runner = model.run(job, config)\n",
    "    \n",
    "    while not runner.status():\n",
    "        print('running')\n",
    "        time.sleep(1) #!!!!!!!!!!!此处增加休眠，避免不必要输出\n",
    "    #!!!!!!!!!!!!!此处缩进调整\n",
    "    # 获取通道分组下的曲线名称\n",
    "    plotKeys = runner.result.getPlotChannelNames(1)\n",
    "    if plotKeys is not None:\n",
    "        for val in plotKeys:\n",
    "            # 获取曲线数据\n",
    "            channel = runner.result.getPlotChannelData(1, val)\n",
    "            plt.plot(channel['x'], channel['y'], label=val)\n",
    "    \n",
    "    print('end')\n",
    "    plt.legend()\n",
    "    plt.show()"
   ]
  }
 ],
 "metadata": {
  "kernelspec": {
   "display_name": "myenv",
   "language": "python",
   "name": "python3"
  },
  "language_info": {
   "codemirror_mode": {
    "name": "ipython",
    "version": 3
   },
   "file_extension": ".py",
   "mimetype": "text/x-python",
   "name": "python",
   "nbconvert_exporter": "python",
   "pygments_lexer": "ipython3",
   "version": "3.9.18"
  }
 },
 "nbformat": 4,
 "nbformat_minor": 2
}
