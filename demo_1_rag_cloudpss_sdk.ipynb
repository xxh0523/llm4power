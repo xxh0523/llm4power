{
 "cells": [
  {
   "cell_type": "code",
   "execution_count": 3,
   "metadata": {},
   "outputs": [],
   "source": [
    "import os\n",
    "os.environ[\"OPENAI_API_TYPE\"] = \"azure\"\n",
    "os.environ[\"OPENAI_API_BASE\"] = \"https://yourterminal.openai.azure.com/\" #!!!!!!!!!!!!!!!!!!!!!!!!!!!!!!!!!!!!!!!!此处设置自己的terminal\n",
    "os.environ[\"OPENAI_API_KEY\"] = \"your api key\" #!!!!!!!!!!!!!!!!!!!!!!!!!!!!!!!!!!!!!!!!!!!!!!!!!!!!!!!!!!!!!!!!!!!此处设置自己的API Key\n",
    "os.environ[\"OPENAI_API_VERSION\"] = \"2023-05-15\""
   ]
  },
  {
   "cell_type": "code",
   "execution_count": 2,
   "metadata": {},
   "outputs": [],
   "source": [
    "from langchain.document_loaders import PyPDFLoader\n",
    "loader = PyPDFLoader(\"./data/CloudPSS SDK.pdf\")\n",
    "docs = loader.load_and_split()"
   ]
  },
  {
   "cell_type": "code",
   "execution_count": 3,
   "metadata": {},
   "outputs": [
    {
     "data": {
      "text/plain": [
       "'SDK 简介\\nCloudPSS SDK 是基于 CloudPSS-A PI封装的模型及软件开发套件。用户可通过编写 Python、Matlab 等脚本构建自定义模型，或是\\n调用 CloudPSS 平台中的模型修改、仿真计算功能，实现诸如自动修改模 型、批量仿真计算、自动化生成报告等复杂且繁琐的功能。\\n用户也可在其自己的应用程序中调用 CloudPSS 仿真引擎，实现仿真驱动的高级分析应用。\\nCloudPSS SDK 包含模型层、算法层和应用层三种开发套件，其中：\\n1. 模 型 层 开 发 套 件帮助用户在 CloudPSS SimS tudio 官方潮流计算、电磁暂态仿真、移频电磁暂态仿真、综合能源能量流计算等内\\n核中开发第三方模型或用户自定义模型。目前，模型层 SDK 已开放基于 Matlab 函数的自定义控制元件接入，后续将进一步开放\\nPython、C/C++ 的标准元件开发套件。\\n2. 算 法 层 开 发 套 件帮助用户在 CloudPSS FuncS tudio 中集成自己的算法内核，从而借助 CloudPSS XS tudio 平台快速开发并部署\\n自己的计算应用。\\n3. 应 用 层 开 发 套 件帮助用户在利用脚本的形式快速调用 CloudPSS 官方计算内核和第三方接入的计算内核，从而方便用户开发高级\\n计算分析应用。其中，SimS tudio-SDK 现已支持 SimS tudio 中的模型修改和 潮 流 计 算、 电 磁 暂 态 仿 真、 综 合 能 源 能 量 流 计 算三\\n种计算内核。\\nCloudPSS-SDK\\n模型层 算法层 应用层\\nMatlab 函数 C/C++ Python 函数 FuncStudio-SDK SimStudio-SDK AppStudio-SDK\\n665'"
      ]
     },
     "execution_count": 3,
     "metadata": {},
     "output_type": "execute_result"
    }
   ],
   "source": [
    "docs[1].page_content[:2000]"
   ]
  },
  {
   "cell_type": "code",
   "execution_count": 4,
   "metadata": {},
   "outputs": [],
   "source": [
    "from langchain.text_splitter import RecursiveCharacterTextSplitter\n",
    "text_splitter = RecursiveCharacterTextSplitter(\n",
    "    chunk_size=500, chunk_overlap=0, add_start_index=True\n",
    ")\n",
    "all_splits = text_splitter.split_documents(docs)"
   ]
  },
  {
   "cell_type": "code",
   "execution_count": 5,
   "metadata": {},
   "outputs": [
    {
     "data": {
      "text/plain": [
       "130"
      ]
     },
     "execution_count": 5,
     "metadata": {},
     "output_type": "execute_result"
    }
   ],
   "source": [
    "len(all_splits)\n",
    "# all_splits[0].metadata"
   ]
  },
  {
   "cell_type": "code",
   "execution_count": 6,
   "metadata": {},
   "outputs": [],
   "source": [
    "# 如果要运行此段代码，请先删除./data/chroma_db\n",
    "# 建议默认不要运行此段代码！！！！！！！！！！！！！！！\n",
    "# save new documents.\n",
    "# from langchain.vectorstores.chroma import Chroma\n",
    "# from langchain.embeddings.openai import OpenAIEmbeddings\n",
    "# db = Chroma.from_documents(documents=docs, \n",
    "#                            embedding=OpenAIEmbeddings(deployment=\"myembedding\", disallowed_special=()),\n",
    "#                            persist_directory=\"./data/chroma_db\")"
   ]
  },
  {
   "cell_type": "code",
   "execution_count": 7,
   "metadata": {},
   "outputs": [
    {
     "data": {
      "text/plain": [
       "[Document(page_content='SDK 简介\\nCloudPSS SDK 是基于 CloudPSS-A PI封装的模型及软件开发套件。用户可通过编写 Python、Matlab 等脚本构建自定义模型，或是\\n调用 CloudPSS 平台中的模型修改、仿真计算功能，实现诸如自动修改模 型、批量仿真计算、自动化生成报告等复杂且繁琐的功能。\\n用户也可在其自己的应用程序中调用 CloudPSS 仿真引擎，实现仿真驱动的高级分析应用。\\nCloudPSS SDK 包含模型层、算法层和应用层三种开发套件，其中：\\n1. 模 型 层 开 发 套 件帮助用户在 CloudPSS SimS tudio 官方潮流计算、电磁暂态仿真、移频电磁暂态仿真、综合能源能量流计算等内\\n核中开发第三方模型或用户自定义模型。目前，模型层 SDK 已开放基于 Matlab 函数的自定义控制元件接入，后续将进一步开放\\nPython、C/C++ 的标准元件开发套件。\\n2. 算 法 层 开 发 套 件帮助用户在 CloudPSS FuncS tudio 中集成自己的算法内核，从而借助 CloudPSS XS tudio 平台快速开发并部署\\n自己的计算应用。\\n3. 应 用 层 开 发 套 件帮助用户在利用脚本的形式快速调用 CloudPSS 官方计算内核和第三方接入的计算内核，从而方便用户开发高级\\n计算分析应用。其中，SimS tudio-SDK 现已支持 SimS tudio 中的模型修改和 潮 流 计 算、 电 磁 暂 态 仿 真、 综 合 能 源 能 量 流 计 算三\\n种计算内核。\\nCloudPSS-SDK\\n模型层 算法层 应用层\\nMatlab 函数 C/C++ Python 函数 FuncStudio-SDK SimStudio-SDK AppStudio-SDK\\n665', metadata={'page': 1, 'source': './data/CloudPSS SDK.pdf'}),\n",
       " Document(page_content='CloudPSS 接口文档\\nToken 申请 与设置\\nModel 类\\nRunner 类\\nFunction 类\\nFunctionJob 类\\nProject 类\\n681', metadata={'page': 17, 'source': './data/CloudPSS SDK.pdf'}),\n",
       " Document(page_content='CloudPSS 框架介绍\\n框架图\\n仿真项目架构\\n667', metadata={'page': 3, 'source': './data/CloudPSS SDK.pdf'}),\n",
       " Document(page_content='Token 申请与设置\\n首先点击 主 页标签页进入 CloudPSS 主页，然后点击左下角的 设 置按钮进入设置页面。\\n设置页面\\n点击 SDK Token 申 请标签进入 Token 申请界面，并选择 时 效。\\n基本设置界面申请t oken\\n682', metadata={'page': 18, 'source': './data/CloudPSS SDK.pdf'})]"
      ]
     },
     "execution_count": 7,
     "metadata": {},
     "output_type": "execute_result"
    }
   ],
   "source": [
    "# db.similarity_search(\"CloudPSS SDK的功能\")"
   ]
  },
  {
   "cell_type": "code",
   "execution_count": 10,
   "metadata": {},
   "outputs": [
    {
     "data": {
      "text/plain": [
       "[Document(page_content='SDK 简介\\nCloudPSS SDK 是基于 CloudPSS-A PI封装的模型及软件开发套件。用户可通过编写 Python、Matlab 等脚本构建自定义模型，或是\\n调用 CloudPSS 平台中的模型修改、仿真计算功能，实现诸如自动修改模 型、批量仿真计算、自动化生成报告等复杂且繁琐的功能。\\n用户也可在其自己的应用程序中调用 CloudPSS 仿真引擎，实现仿真驱动的高级分析应用。\\nCloudPSS SDK 包含模型层、算法层和应用层三种开发套件，其中：\\n1. 模 型 层 开 发 套 件帮助用户在 CloudPSS SimS tudio 官方潮流计算、电磁暂态仿真、移频电磁暂态仿真、综合能源能量流计算等内\\n核中开发第三方模型或用户自定义模型。目前，模型层 SDK 已开放基于 Matlab 函数的自定义控制元件接入，后续将进一步开放\\nPython、C/C++ 的标准元件开发套件。\\n2. 算 法 层 开 发 套 件帮助用户在 CloudPSS FuncS tudio 中集成自己的算法内核，从而借助 CloudPSS XS tudio 平台快速开发并部署\\n自己的计算应用。\\n3. 应 用 层 开 发 套 件帮助用户在利用脚本的形式快速调用 CloudPSS 官方计算内核和第三方接入的计算内核，从而方便用户开发高级\\n计算分析应用。其中，SimS tudio-SDK 现已支持 SimS tudio 中的模型修改和 潮 流 计 算、 电 磁 暂 态 仿 真、 综 合 能 源 能 量 流 计 算三\\n种计算内核。\\nCloudPSS-SDK\\n模型层 算法层 应用层\\nMatlab 函数 C/C++ Python 函数 FuncStudio-SDK SimStudio-SDK AppStudio-SDK\\n665', metadata={'page': 1, 'source': './data/CloudPSS SDK.pdf'}),\n",
       " Document(page_content='CloudPSS 接口文档\\nToken 申请 与设置\\nModel 类\\nRunner 类\\nFunction 类\\nFunctionJob 类\\nProject 类\\n681', metadata={'page': 17, 'source': './data/CloudPSS SDK.pdf'}),\n",
       " Document(page_content='CloudPSS 框架介绍\\n框架图\\n仿真项目架构\\n667', metadata={'page': 3, 'source': './data/CloudPSS SDK.pdf'}),\n",
       " Document(page_content='Token 申请与设置\\n首先点击 主 页标签页进入 CloudPSS 主页，然后点击左下角的 设 置按钮进入设置页面。\\n设置页面\\n点击 SDK Token 申 请标签进入 Token 申请界面，并选择 时 效。\\n基本设置界面申请t oken\\n682', metadata={'page': 18, 'source': './data/CloudPSS SDK.pdf'})]"
      ]
     },
     "execution_count": 10,
     "metadata": {},
     "output_type": "execute_result"
    }
   ],
   "source": [
    "# load documents\n",
    "from langchain.vectorstores.chroma import Chroma\n",
    "from langchain.embeddings.openai import OpenAIEmbeddings\n",
    "db3 = Chroma(persist_directory=\"./data/chroma_db/\", embedding_function=OpenAIEmbeddings(deployment=\"your embedding name\",  #!!!!!!!!!!!此处设置自己的text embedding name\n",
    "                                                                                        disallowed_special=()))\n",
    "db3.similarity_search(\"CloudPSS SDK的功能\")"
   ]
  },
  {
   "cell_type": "code",
   "execution_count": 16,
   "metadata": {},
   "outputs": [],
   "source": [
    "retriever = db3.as_retriever(\n",
    "    search_type=\"similarity\",  # Also test \"similarity\"\n",
    "    search_kwargs={\"k\": 8},\n",
    ")"
   ]
  },
  {
   "cell_type": "code",
   "execution_count": 4,
   "metadata": {},
   "outputs": [],
   "source": [
    "from langchain.chat_models import AzureChatOpenAI\n",
    "llm = AzureChatOpenAI(deployment_name=\"your deployment name\", #!!!!!!!!!!!此处设置自己的deployment name\n",
    "                      model_name=\"gpt-35-turbo\",\n",
    "                      temperature=0.7)"
   ]
  },
  {
   "cell_type": "code",
   "execution_count": 5,
   "metadata": {},
   "outputs": [
    {
     "name": "stdout",
     "output_type": "stream",
     "text": [
      "CloudPSS SDK（Software Development Kit）是一组开发工具和库，用于简化使用CloudPSS平台的开发过程。它提供了以下功能：\n",
      "\n",
      "1. 认证和授权：CloudPSS SDK提供了认证和授权功能，使开发者能够使用API密钥或访问令牌进行身份验证，并获取访问CloudPSS平台的权限。\n",
      "\n",
      "2. 数据管理：通过CloudPSS SDK，开发者可以方便地进行数据管理，包括创建、读取、更新和删除数据等操作。这样开发者可以轻松地将数据存储在CloudPSS平台上，并对其进行操作。\n",
      "\n",
      "3. 设备管理：CloudPSS SDK提供了设备管理功能，开发者可以使用SDK来注册设备、监控设备状态、控制设备等。这样开发者可以更好地管理和控制连接到CloudPSS平台的设备。\n",
      "\n",
      "4. 事件和通知：通过CloudPSS SDK，开发者可以订阅和处理来自CloudPSS平台的事件和通知。这样开发者可以在发生特定事件或条件时接收通知，并根据需要采取相应的操作。\n",
      "\n",
      "5. 数据分析：CloudPSS SDK提供了数据分析功能，开发者可以使用SDK来获取、处理和分析存储在CloudPSS平台上的数据。这样开发者可以从数据中提取有用的信息，进行业务分析和决策。\n",
      "\n",
      "总的来说，CloudPSS SDK提供了一系列功能和工具，帮助开发者更轻松地使用CloudPSS平台，进行应用程序开发和管理。\n"
     ]
    }
   ],
   "source": [
    "print(llm.invoke(\"CloudPSS SDK有哪些功能？\").content)"
   ]
  },
  {
   "cell_type": "code",
   "execution_count": 13,
   "metadata": {},
   "outputs": [],
   "source": [
    "def format_docs(docs):\n",
    "    return \"\\n\\n\".join(doc.page_content for doc in docs)"
   ]
  },
  {
   "cell_type": "code",
   "execution_count": 25,
   "metadata": {},
   "outputs": [],
   "source": [
    "from langchain.prompts import PromptTemplate\n",
    "from langchain.schema.runnable import RunnablePassthrough\n",
    "from langchain.schema import StrOutputParser\n",
    "\n",
    "# Use three sentences maximum and keep the answer as concise as possible. \n",
    "# Always say \"thanks for asking!\" at the end of the answer. \n",
    "\n",
    "template = \"\"\"Use the following pieces of context to answer the question or generate code at the end. \n",
    "When you generate code, do not use \"try\" and \"exception\". Do not use \"try\" and \"except\"\n",
    "If you don't know the answer, just say that you don't know, don't try to make up an answer. \n",
    "{context}\n",
    "Question: {question}\n",
    "Helpful Answer:\"\"\"\n",
    "rag_prompt_custom = PromptTemplate.from_template(template)\n",
    "\n",
    "rag_chain = (\n",
    "    {\"context\": retriever | format_docs, \"question\": RunnablePassthrough()}\n",
    "    | rag_prompt_custom\n",
    "    | llm\n",
    "    | StrOutputParser()\n",
    ")"
   ]
  },
  {
   "cell_type": "code",
   "execution_count": 26,
   "metadata": {},
   "outputs": [
    {
     "name": "stdout",
     "output_type": "stream",
     "text": [
      "CloudPSS SDK提供了以下功能：\n",
      "1. 用户可以通过编写Python、Matlab等脚本构建自定义模型。\n",
      "2. 用户可以调用CloudPSS平台中的模型修改、仿真计算功能。\n",
      "3. 用户可以实现自动修改模型、批量仿真计算、自动化生成报告等复杂且繁琐的功能。\n",
      "4. 用户可以在自己的应用程序中调用CloudPSS仿真引擎，实现仿真驱动的高级分析应用。\n",
      "5. CloudPSS SDK包含模型层、算法层和应用层三种开发套件，分别用于开发第三方模型、集成自己的算法内核和开发高级计算分析应用。\n",
      "6. 模型层开发套件支持基于Matlab函数的自定义控制元件接入，后续将进一步开放Python、C/C++的标准元件开发套件。\n",
      "7. 算法层开发套件帮助用户在CloudPSS FuncStudio中集成自己的算法内核，从而快速开发并部署自己的计算应用。\n",
      "8. 应用层开发套件帮助用户利用脚本的形式快速调用CloudPSS官方计算内核和第三方接入的计算内核，方便用户开发高级计算分析应用。\n"
     ]
    }
   ],
   "source": [
    "print(rag_chain.invoke(\"CloudPSS SDK有哪些功能？\"))"
   ]
  }
 ],
 "metadata": {
  "kernelspec": {
   "display_name": "myenv",
   "language": "python",
   "name": "python3"
  },
  "language_info": {
   "codemirror_mode": {
    "name": "ipython",
    "version": 3
   },
   "file_extension": ".py",
   "mimetype": "text/x-python",
   "name": "python",
   "nbconvert_exporter": "python",
   "pygments_lexer": "ipython3",
   "version": "3.9.18"
  }
 },
 "nbformat": 4,
 "nbformat_minor": 2
}
